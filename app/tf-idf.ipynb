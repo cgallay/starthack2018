{
 "cells": [
  {
   "cell_type": "code",
   "execution_count": 1,
   "metadata": {
    "collapsed": true
   },
   "outputs": [],
   "source": [
    "import numpy as np\n",
    "from sklearn.feature_extraction.text import CountVectorizer\n",
    "from sklearn.feature_extraction.text import TfidfTransformer\n",
    "from sklearn.metrics.pairwise import cosine_similarity"
   ]
  },
  {
   "cell_type": "code",
   "execution_count": 2,
   "metadata": {},
   "outputs": [],
   "source": [
    "#vectorizer = TfidfVectorizer()\n",
    "#query = ['Cheese chocolate Cream']\n",
    "#query = ['festival jazz music']\n",
    "query = ['watches']"
   ]
  },
  {
   "cell_type": "code",
   "execution_count": 3,
   "metadata": {},
   "outputs": [],
   "source": [
    "import pickle\n",
    "cities_info = pickle.load(open(\"../cities_new.p\", \"rb\"))\n",
    "labels = np.array(list(cities_info.keys()))\n",
    "corpus = np.array(list(cities_info.values()))"
   ]
  },
  {
   "cell_type": "code",
   "execution_count": 4,
   "metadata": {},
   "outputs": [],
   "source": [
    "vectorizer = CountVectorizer()\n",
    "transformer = TfidfTransformer()\n",
    "\n",
    "trainVectorizer = vectorizer.fit_transform(corpus)\n",
    "testVectorizer = vectorizer.transform(query)\n",
    "\n",
    "transformer.fit(trainVectorizer)\n",
    "X = transformer.transform(trainVectorizer)\n",
    "\n",
    "transformer.fit(testVectorizer)\n",
    "\n",
    "Y = transformer.transform(testVectorizer)"
   ]
  },
  {
   "cell_type": "code",
   "execution_count": 5,
   "metadata": {
    "collapsed": true
   },
   "outputs": [],
   "source": [
    "from sklearn.metrics.pairwise import cosine_similarity"
   ]
  },
  {
   "cell_type": "code",
   "execution_count": 6,
   "metadata": {},
   "outputs": [
    {
     "data": {
      "text/plain": [
       "array([[ 0.        ],\n",
       "       [ 0.        ],\n",
       "       [ 0.00263167],\n",
       "       [ 0.        ],\n",
       "       [ 0.        ],\n",
       "       [ 0.        ],\n",
       "       [ 0.        ],\n",
       "       [ 0.        ],\n",
       "       [ 0.        ],\n",
       "       [ 0.        ],\n",
       "       [ 0.        ],\n",
       "       [ 0.        ],\n",
       "       [ 0.        ],\n",
       "       [ 0.        ],\n",
       "       [ 0.        ],\n",
       "       [ 0.        ],\n",
       "       [ 0.        ],\n",
       "       [ 0.        ],\n",
       "       [ 0.00815204],\n",
       "       [ 0.        ],\n",
       "       [ 0.        ],\n",
       "       [ 0.        ],\n",
       "       [ 0.        ],\n",
       "       [ 0.        ],\n",
       "       [ 0.        ],\n",
       "       [ 0.        ],\n",
       "       [ 0.        ],\n",
       "       [ 0.        ],\n",
       "       [ 0.        ],\n",
       "       [ 0.        ],\n",
       "       [ 0.        ],\n",
       "       [ 0.        ],\n",
       "       [ 0.        ],\n",
       "       [ 0.        ],\n",
       "       [ 0.01423596],\n",
       "       [ 0.        ],\n",
       "       [ 0.        ],\n",
       "       [ 0.        ],\n",
       "       [ 0.00439554],\n",
       "       [ 0.        ],\n",
       "       [ 0.        ],\n",
       "       [ 0.        ],\n",
       "       [ 0.        ],\n",
       "       [ 0.        ],\n",
       "       [ 0.01921873],\n",
       "       [ 0.        ],\n",
       "       [ 0.        ],\n",
       "       [ 0.        ],\n",
       "       [ 0.        ],\n",
       "       [ 0.        ],\n",
       "       [ 0.        ],\n",
       "       [ 0.        ],\n",
       "       [ 0.        ],\n",
       "       [ 0.02069208]])"
      ]
     },
     "execution_count": 6,
     "metadata": {},
     "output_type": "execute_result"
    }
   ],
   "source": [
    "cosine_similarity(X,Y)"
   ]
  },
  {
   "cell_type": "code",
   "execution_count": 7,
   "metadata": {},
   "outputs": [],
   "source": [
    "vals = cosine_similarity(X,Y).flatten()"
   ]
  },
  {
   "cell_type": "code",
   "execution_count": 8,
   "metadata": {},
   "outputs": [
    {
     "data": {
      "text/plain": [
       "array([ 0, 27, 28, 29, 30, 31, 32, 33, 35, 36, 37, 52, 39, 41, 42, 43, 45,\n",
       "       46, 47, 48, 49, 50, 51, 40, 25, 26, 23,  1,  3,  4,  5,  6,  7,  8,\n",
       "        9, 10, 11, 24, 12, 13, 14, 15, 16, 17, 19, 20, 21, 22,  2, 38, 18,\n",
       "       34, 44, 53])"
      ]
     },
     "execution_count": 8,
     "metadata": {},
     "output_type": "execute_result"
    }
   ],
   "source": [
    "import numpy as np\n",
    "np.argsort(vals)"
   ]
  },
  {
   "cell_type": "code",
   "execution_count": 9,
   "metadata": {},
   "outputs": [
    {
     "data": {
      "text/plain": [
       "array([ 0.02069208,  0.01921873,  0.01423596,  0.00815204,  0.00439554,\n",
       "        0.00263167,  0.        ,  0.        ,  0.        ,  0.        ])"
      ]
     },
     "execution_count": 9,
     "metadata": {},
     "output_type": "execute_result"
    }
   ],
   "source": [
    "indexes = np.argsort(vals)[-10:][::-1]\n",
    "vals[indexes]"
   ]
  },
  {
   "cell_type": "code",
   "execution_count": 10,
   "metadata": {},
   "outputs": [
    {
     "data": {
      "text/plain": [
       "array([53, 44, 34, 18, 38,  2, 22, 21, 20, 19])"
      ]
     },
     "execution_count": 10,
     "metadata": {},
     "output_type": "execute_result"
    }
   ],
   "source": [
    "indexes"
   ]
  },
  {
   "cell_type": "code",
   "execution_count": 11,
   "metadata": {},
   "outputs": [
    {
     "data": {
      "text/plain": [
       "array(['Meyrin', 'le Locle', 'La chaux-de-fonds', 'Schaffhausen', 'Bienne',\n",
       "       'Basel', 'Wattwil', 'Lauterbrunnen', 'Berne', 'Andermatt'],\n",
       "      dtype='<U28')"
      ]
     },
     "execution_count": 11,
     "metadata": {},
     "output_type": "execute_result"
    }
   ],
   "source": [
    "labels[indexes]"
   ]
  },
  {
   "cell_type": "code",
   "execution_count": 12,
   "metadata": {},
   "outputs": [
    {
     "data": {
      "text/plain": [
       "array([ 0.02069208,  0.01921873,  0.01423596,  0.00815204,  0.00439554,\n",
       "        0.00263167,  0.        ,  0.        ,  0.        ,  0.        ])"
      ]
     },
     "execution_count": 12,
     "metadata": {},
     "output_type": "execute_result"
    }
   ],
   "source": [
    "vals[indexes]"
   ]
  },
  {
   "cell_type": "code",
   "execution_count": 13,
   "metadata": {},
   "outputs": [],
   "source": [
    "output = zip(labels[indexes],{'score' : vals[indexes]})"
   ]
  },
  {
   "cell_type": "code",
   "execution_count": 14,
   "metadata": {},
   "outputs": [
    {
     "data": {
      "text/plain": [
       "<zip at 0x7f9e5c19acc8>"
      ]
     },
     "execution_count": 14,
     "metadata": {},
     "output_type": "execute_result"
    }
   ],
   "source": [
    "output"
   ]
  },
  {
   "cell_type": "code",
   "execution_count": 15,
   "metadata": {},
   "outputs": [
    {
     "name": "stdout",
     "output_type": "stream",
     "text": [
      "Rhäzüns is a municipality in the Imboden Region in the Swiss canton of Grisons.\n",
      "\n",
      "\n",
      "== History ==\n",
      "Rhäzüns is first mentioned about 840 as Raezunne. It formed a single parish with Bonaduz until the Reformation. It was part of the Grey League from 1424. It was acquired by the House of Habsburg in 1497 but remained part of the Three Leagues for the purposes of jurisdiction. In the Treaty of Schönbrunn (1809), the Habsburg Monarchy ceded the lordship of Rhäzüns to France. It reverted to Habsburg after the defeat of Napoleon in 1814, but was assigned to Grisons in the Vienna Congress of 1815 (article 78). The transition of administrative power to Grisons, as a canton of the restored Swiss Confederacy, became effective only on 19 January 1819.\n",
      "\n",
      "\n",
      "== Geography ==\n",
      "\n",
      "Rhäzüns has an area, as of 2006, of 13.3 km2 (5.1 sq mi). Of this area, 23.3% is used for agricultural purposes, while 69.1% is forested. Of the rest of the land, 4.2% is settled (buildings or roads) and the remainder (3.4%) is non-productive (rivers, glaciers or mountains).\n",
      "Before 2017, the municipality was located in the Rhäzüns sub-district, of the Imboden district, after 2017 it was part of the Imboden Region. It consists of the linear village of Rhäzüns in the valley between Bonaduz and the narrow entrance to the Domleschg valley.\n",
      "\n",
      "\n",
      "== Demographics ==\n",
      "Rhäzüns has a population (as of 31 December 2016) of 1,463. As of 2008, 15.4% of the population was made up of foreign nationals. Over the last 10 years the population has grown at a rate of 0.3%.\n",
      "\n",
      "As of 2000, the gender distribution of the population was 49.2% male and 50.8% female. The age distribution, as of 2000, in Rhäzüns is; 191 people or 15.9% of the population are between 0 and 9 years old. 80 people or 6.7% are 10 to 14, and 69 people or 5.7% are 15 to 19. Of the adult population, 130 people or 10.8% of the population are between 20 and 29 years old. 192 people or 16.0% are 30 to 39, 203 people or 16.9% are 40 to 49, and 143 people or 11.9% are 50 to 59. The senior population distribution is 90 people or 7.5% of the population are between 60 and 69 years old, 81 people or 6.7% are 70 to 79, there are 22 people or 1.8% who are 80 to 89.\n",
      "In the 2007 federal election the most popular party was the SVP which received 34.5% of the vote. The next three most popular parties were the CVP (23.2%), the SPS (21.9%) and the FDP (18.6%).\n",
      "In Rhäzüns about 74.8% of the population (between age 25-64) have completed either non-mandatory upper secondary education or additional higher education (either university or a Fachhochschule).\n",
      "Rhäzüns has an unemployment rate of 1.35%. As of 2005, there were 27 people employed in the primary economic sector and about 13 businesses involved in this sector. 178 people are employed in the secondary sector and there are 16 businesses in this sector. 112 people are employed in the tertiary sector, with 29 businesses in this sector.\n",
      "From the 2000 census, 741 or 61.7% are Roman Catholic, while 280 or 23.3% belonged to the Swiss Reformed Church. Of the rest of the population, there are less than 5 individuals who belong to the Orthodox Church, and there are 11 individuals (or about 0.92% of the population) who belong to another Christian church. There are 63 (or about 5.25% of the population) who are Islamic. There are 9 individuals (or about 0.75% of the population) who belong to another church (not listed on the census), 55 (or about 4.58% of the population) belong to no church, are agnostic or atheist, and 42 individuals (or about 3.50% of the population) did not answer the question.\n",
      "\n",
      "The historical population is given in the following table:\n",
      "\n",
      "\n",
      "== Languages ==\n",
      "Most of the population (as of 2000) speaks German (79.4%), with Romansh being second most common (10.1%) and Italian being third ( 3.3%).\n",
      "\n",
      "\n",
      "== Products ==\n",
      "It is known for its mineral water brand Rhäzünser and the beer Rhäzünser Pils.\n",
      "\n",
      "\n",
      "== Heritage sites of national significance ==\n",
      "The Baselgia S. Gieri/St. George's Church frescos and the baselgia S. Paul\\St. Paul's Church are listed as Swiss heritage sites of national significance.\n",
      "\n",
      "\n",
      "== Transportation ==\n",
      "Rhaetian Railway operate services to Rhäzüns (Rhaetian Railway station).\n",
      "\n",
      "\n",
      "== References ==\n",
      "\n",
      "\n",
      "== External links ==\n",
      "Rhäzüns in German, French and Italian in the online Historical Dictionary of Switzerland.\n"
     ]
    }
   ],
   "source": [
    "import wikipedia\n",
    "print(wikipedia.page('Rhazuns').content)"
   ]
  },
  {
   "cell_type": "code",
   "execution_count": null,
   "metadata": {
    "collapsed": true
   },
   "outputs": [],
   "source": []
  }
 ],
 "metadata": {
  "anaconda-cloud": {},
  "kernelspec": {
   "display_name": "Python 3",
   "language": "python",
   "name": "python3"
  },
  "language_info": {
   "codemirror_mode": {
    "name": "ipython",
    "version": 3
   },
   "file_extension": ".py",
   "mimetype": "text/x-python",
   "name": "python",
   "nbconvert_exporter": "python",
   "pygments_lexer": "ipython3",
   "version": "3.6.3"
  }
 },
 "nbformat": 4,
 "nbformat_minor": 1
}
